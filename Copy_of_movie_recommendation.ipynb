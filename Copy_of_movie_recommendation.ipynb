{
  "nbformat": 4,
  "nbformat_minor": 0,
  "metadata": {
    "colab": {
      "provenance": [],
      "mount_file_id": "1cE7XOOgczekvTfGgvsFaLpQfM8sU4Os4",
      "authorship_tag": "ABX9TyPBqTYxNH7R5b1rX63eLfr6",
      "include_colab_link": true
    },
    "kernelspec": {
      "name": "python3",
      "display_name": "Python 3"
    },
    "language_info": {
      "name": "python"
    }
  },
  "cells": [
    {
      "cell_type": "markdown",
      "metadata": {
        "id": "view-in-github",
        "colab_type": "text"
      },
      "source": [
        "<a href=\"https://colab.research.google.com/github/AjayBora002/movie_recommendation/blob/main/Copy_of_movie_recommendation.ipynb\" target=\"_parent\"><img src=\"https://colab.research.google.com/assets/colab-badge.svg\" alt=\"Open In Colab\"/></a>"
      ]
    },
    {
      "cell_type": "markdown",
      "source": [
        "1.Import Modules\n"
      ],
      "metadata": {
        "id": "J6d0tTm3Z4Fb"
      }
    },
    {
      "cell_type": "code",
      "execution_count": null,
      "metadata": {
        "id": "eAoL_vQ5ZseH"
      },
      "outputs": [],
      "source": [
        "import pandas as pd\n",
        "import numpy as np\n",
        "import re\n",
        "import nltk"
      ]
    },
    {
      "cell_type": "code",
      "source": [
        "movies=pd.read_csv(\"movies.csv\")"
      ],
      "metadata": {
        "id": "RC04AFR0aKdq"
      },
      "execution_count": null,
      "outputs": []
    },
    {
      "cell_type": "code",
      "source": [
        "\n",
        "\n",
        "def clean_title(title):\n",
        "    return re.sub(r'[^a-zA-Z0-9 ]', '', title.lower()).strip()\n"
      ],
      "metadata": {
        "id": "Hrnrx5DJ3Ziq"
      },
      "execution_count": null,
      "outputs": []
    },
    {
      "cell_type": "code",
      "source": [
        "movies[\"clean_title\"]=movies[\"title\"].apply(clean_title)# this will access a new clean title column\n"
      ],
      "metadata": {
        "id": "e15_CXzwot7V"
      },
      "execution_count": null,
      "outputs": []
    },
    {
      "cell_type": "markdown",
      "source": [
        "2. FINDING SIMILARITIES BETWEEN THE WORDS AND WITH THE HELP OF IT GIVING THE SIMILAR TYPE OF MOVIE TO THE USER"
      ],
      "metadata": {
        "id": "bJF4eMntp_md"
      }
    },
    {
      "cell_type": "code",
      "source": [
        "from sklearn.feature_extraction.text import TfidfVectorizer# converting text data into numerical data and finding similarities , this will do it\n",
        "vectorizer = TfidfVectorizer(ngram_range=(1,2))# this ngram thing will help in finding instead of single single word it will match two consecutive words like toy story together\n",
        "tfidf = vectorizer.fit_transform(movies[\"clean_title\"])"
      ],
      "metadata": {
        "id": "d0n07r05pdjy"
      },
      "execution_count": null,
      "outputs": []
    },
    {
      "cell_type": "markdown",
      "source": [
        "3.finding similarity and creating search function"
      ],
      "metadata": {
        "id": "BMxSwBGqsP1J"
      }
    },
    {
      "cell_type": "code",
      "source": [
        "from sklearn.metrics.pairwise import cosine_similarity\n",
        "import numpy as np\n",
        "\n",
        "def search(title):\n",
        "    title = clean_title(title)  # clean the input title\n",
        "    query_vec = vectorizer.transform([title])  # vectorize it\n",
        "    similarity = cosine_similarity(query_vec, tfidf).flatten()\n",
        "    indices = np.argpartition(similarity, -5)[-5:]\n",
        "    results = movies.iloc[indices].iloc[::-1]\n",
        "    return results\n"
      ],
      "metadata": {
        "id": "j4WRhSlWr3PZ"
      },
      "execution_count": null,
      "outputs": []
    },
    {
      "cell_type": "markdown",
      "source": [
        "4.CREATING AN INTERACTIVE BOX"
      ],
      "metadata": {
        "id": "_CtnMMCx28LI"
      }
    },
    {
      "cell_type": "code",
      "source": [
        "import ipywidgets as widgets\n",
        "from IPython.display import display  # function used to show diiff things as output on notebook\n",
        "\n",
        "\n",
        "movie_input = widgets.Text(    # creating a widget\n",
        "    value='Toy Story',\n",
        "    description = \"Movie Title :\",  # movie titled will be entered here\n",
        "    disabled=False   # it will be enabled\n",
        ")\n",
        "\n",
        "\n",
        "# this whole thing will create a box to enter movie title , but wont show anything as output\n",
        "  #NOW MAKING AN OUTPUT WIDGET\n",
        "movie_list = widgets.Output()\n",
        "\n",
        "def on_type(data):     # this fun will be called whenever we type something in the box\n",
        "  with movie_list:\n",
        "    movie_list.clear_output()\n",
        "\n",
        "    title=data[\"new\"]\n",
        "    if len(title)>5:\n",
        "      display(search(title))\n",
        "\n",
        "movie_input.observe(on_type, names='value')  # there are diff events of the widgets whenever we input a movie name it is going to call on type and gives value event\n",
        "display(movie_input, movie_list)\n",
        "\n",
        "\n"
      ],
      "metadata": {
        "id": "_bDp62Vs1kTH"
      },
      "execution_count": null,
      "outputs": []
    },
    {
      "cell_type": "code",
      "source": [
        "ratings=pd.read_csv(\"ratings.csv\")"
      ],
      "metadata": {
        "id": "A_gVExGU3x8M"
      },
      "execution_count": null,
      "outputs": []
    },
    {
      "cell_type": "code",
      "source": [
        "ratings.dtypes"
      ],
      "metadata": {
        "id": "ZqlMV8PE4Oxc"
      },
      "execution_count": null,
      "outputs": []
    },
    {
      "cell_type": "markdown",
      "source": [
        "5.FINDING SIMILAR USER RECOMMENDATION"
      ],
      "metadata": {
        "id": "d4bAyDuC6LUg"
      }
    },
    {
      "cell_type": "code",
      "source": [
        "movie_id=1"
      ],
      "metadata": {
        "id": "dD8AXti_422U"
      },
      "execution_count": null,
      "outputs": []
    },
    {
      "cell_type": "code",
      "source": [
        "similar_users = ratings[(ratings[\"movieId\"] == movie_id)# this is for finding anyone who watched same movie\n",
        "& (ratings[\"rating\"] > 4)][\"userId\"].unique()# this is for anyone who watched the movie and gave the rating 5\n",
        "\n",
        "similar_user_recs = ratings[(ratings[\"userId\"].isin(similar_users)) & (ratings[\"rating\"] > 4)][\"movieId\"]\n",
        "# this will show the movies that are rated by similar users and find their used ids"
      ],
      "metadata": {
        "id": "sbenINKb4s_G"
      },
      "execution_count": null,
      "outputs": []
    },
    {
      "cell_type": "code",
      "source": [
        "similar_user_recs"
      ],
      "metadata": {
        "id": "udkKngiq7OhV"
      },
      "execution_count": null,
      "outputs": []
    },
    {
      "cell_type": "code",
      "source": [
        "similar_user_recs=similar_user_recs.value_counts()/len(similar_users) # this counts the no of 5 rates is given to a movie and then div by len shows recommending percent like top one has 100%\n",
        "\n",
        "# we are doing this to find per of similar people who watched the movie\n",
        "similar_user_recs = similar_user_recs[similar_user_recs > .10]  # shows movies having per greater than 10 %"
      ],
      "metadata": {
        "id": "lwoBgd6q92Ex"
      },
      "execution_count": null,
      "outputs": []
    },
    {
      "cell_type": "code",
      "source": [
        "similar_user_recs"
      ],
      "metadata": {
        "id": "2WTbIiq2-dMu"
      },
      "execution_count": null,
      "outputs": []
    },
    {
      "cell_type": "markdown",
      "source": [
        "6.now problem is that most of the people like movies like toy story and avengers , what we need is how much movies are liked by users are we also like this will give more accuracy on recommendation"
      ],
      "metadata": {
        "id": "uCioAwBiALx1"
      }
    },
    {
      "cell_type": "code",
      "source": [
        "all_users=ratings[(ratings)[\"movieId\"].isin(similar_user_recs.index) & (ratings[\"rating\"]>4)]"
      ],
      "metadata": {
        "id": "uxZ4TWPA_xiy"
      },
      "execution_count": null,
      "outputs": []
    },
    {
      "cell_type": "code",
      "source": [
        "all_users_recs=all_users[\"movieId\"].value_counts()/len(all_users[\"userId\"].unique())# this will give us percentage of all the users who liked the movies"
      ],
      "metadata": {
        "id": "_fz2swe9BFwp"
      },
      "execution_count": null,
      "outputs": []
    },
    {
      "cell_type": "code",
      "source": [
        "rec_percentages=pd.concat([similar_user_recs,all_users_recs],axis=1)# this concatenates the data of how much similar people to us liked and how much avg person liked it\n",
        "rec_percentages.columns=[\"similar\",\"all\"]"
      ],
      "metadata": {
        "id": "lDxkC-bTCBov"
      },
      "execution_count": null,
      "outputs": []
    },
    {
      "cell_type": "code",
      "source": [
        "rec_percentages"
      ],
      "metadata": {
        "id": "pB-Pux5eC7Nd"
      },
      "execution_count": null,
      "outputs": []
    },
    {
      "cell_type": "markdown",
      "source": [
        "7.NOW WE WANT MOVIES THAT HAS A BIG DIFF BET THESE TWO COLUMN"
      ],
      "metadata": {
        "id": "XtQXbYgwDJrW"
      }
    },
    {
      "cell_type": "code",
      "source": [
        "rec_percentages[\"score\"]=rec_percentages[\"similar\"]/rec_percentages[\"all\"]\n",
        "rec_percentages=rec_percentages.sort_values(\"score\",ascending=False)   # using pandas sort method to make an order of the score the higher the score more good will be the recommendation\n",
        "rec_percentages"
      ],
      "metadata": {
        "id": "_-wT9GZODBZ9"
      },
      "execution_count": null,
      "outputs": []
    },
    {
      "cell_type": "markdown",
      "source": [
        "8.NOW TAKING TOP 10 RATINGS AND MERGE IT WITH MOVIES DATA"
      ],
      "metadata": {
        "id": "Xq9zwJL4EG49"
      }
    },
    {
      "cell_type": "code",
      "source": [
        "rec_percentages.head(10).merge(movies,left_index=True,right_on=\"movieId\")"
      ],
      "metadata": {
        "id": "04hoKyN0EN2A"
      },
      "execution_count": null,
      "outputs": []
    },
    {
      "cell_type": "markdown",
      "source": [
        "9.PUTTING ALL OF THIS INTO A FUNCTION"
      ],
      "metadata": {
        "id": "J29KKCCfEbly"
      }
    },
    {
      "cell_type": "code",
      "source": [
        "def find_similar_movies(movie_id):\n",
        "\n",
        "    similar_users = ratings[(ratings[\"movieId\"] == movie_id)\n",
        "    & (ratings[\"rating\"] > 4)][\"userId\"].unique()\n",
        "    similar_user_recs = ratings[(ratings[\"userId\"].isin(similar_users)) # this is finding recommendation similar to us\n",
        "    & (ratings[\"rating\"] > 4)][\"movieId\"]\n",
        "\n",
        "    similar_user_recs = similar_user_recs.value_counts() / len(similar_users)# adjusting the per of recommendation\n",
        "    similar_user_recs = similar_user_recs[similar_user_recs > .10]\n",
        "\n",
        "    all_users = ratings[(ratings[\"movieId\"].isin(similar_user_recs.index)) & (ratings[\"rating\"] > 4)]# this is finding common recommendation among all of the users\n",
        "    all_user_recs = all_users[\"movieId\"].value_counts() / len(all_users[\"userId\"].unique())\n",
        "\n",
        "    rec_percentages = pd.concat([similar_user_recs, all_user_recs], axis=1)# concatinating\n",
        "    rec_percentages.columns = [\"similar\", \"all\"]\n",
        "\n",
        "    rec_percentages[\"score\"] = rec_percentages[\"similar\"] / rec_percentages[\"all\"]# generating score\n",
        "\n",
        "    rec_percentages=rec_percentages.sort_values(\"score\", ascending=False)\n",
        "    return rec_percentages.head(10).merge(movies, left_index=True, right_on=\"movieId\")[[\"score\", \"title\", \"genres\"]]  #sorting and returning our merge data"
      ],
      "metadata": {
        "id": "seSi-OJZEGCz"
      },
      "execution_count": null,
      "outputs": []
    },
    {
      "cell_type": "markdown",
      "source": [
        "10.CREATING AN INTERACTIVE RECOMMENDATION WIDGET"
      ],
      "metadata": {
        "id": "dgnpVr2PGKtn"
      }
    },
    {
      "cell_type": "code",
      "source": [
        "movie_name_input = widgets.Text(    # creating a widget\n",
        "    value='Toy Story',\n",
        "    description = \"Movie Title :\",  # movie titled will be entered here\n",
        "    disabled=False   # it will be enabled\n",
        ")\n",
        "\n",
        "recommendation_list=widgets.Output()\n",
        "\n",
        "def on_type(data):\n",
        "  with recommendation_list:\n",
        "    recommendation_list.clear_output()# removes old output\n",
        "    title=data[\"new\"]\n",
        "    if len(title)>5:\n",
        "      results=search(title)\n",
        "      movie_id=results.iloc[0][\"movieId\"]\n",
        "      display(find_similar_movies(movie_id))\n",
        "\n",
        "movie_name_input.observe(on_type,names=\"value\")\n",
        "display(movie_name_input, recommendation_list)"
      ],
      "metadata": {
        "id": "PlD_XnHnGItn"
      },
      "execution_count": null,
      "outputs": []
    }
  ]
}